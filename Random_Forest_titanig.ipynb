{
 "cells": [
  {
   "cell_type": "code",
   "execution_count": 63,
   "metadata": {},
   "outputs": [],
   "source": [
    "import math\n",
    "import pandas as pd\n",
    "import matplotlib.pyplot as plt\n",
    "%matplotlib inline\n",
    "import numpy as np\n",
    "from sklearn.linear_model import LogisticRegression\n",
    "from sklearn.ensemble import RandomForestClassifier"
   ]
  },
  {
   "cell_type": "code",
   "execution_count": 64,
   "metadata": {},
   "outputs": [],
   "source": [
    "df_train = pd.read_csv('train.csv', index_col='PassengerId')"
   ]
  },
  {
   "cell_type": "markdown",
   "metadata": {},
   "source": [
    "### Feature Engineering"
   ]
  },
  {
   "cell_type": "code",
   "execution_count": 66,
   "metadata": {},
   "outputs": [],
   "source": [
    "def feature_engineer(df):\n",
    "    \n",
    "    # drop columns not needed\n",
    "    df.drop(columns=['Ticket','Fare','Cabin'], inplace=True)\n",
    "    \n",
    "    # drop rows with NaNs\n",
    "    df.dropna(subset=['Embarked'], inplace=True)\n",
    "    \n",
    "    # extract title from names\n",
    "    names = []\n",
    "    for i in df['Name']:\n",
    "        names.append(i.split(',')[1].split('.')[0].strip())\n",
    "    df['Title'] = names \n",
    "\n",
    "    # normalize the titles\n",
    "    normalized_titles = {\n",
    "        \"Capt\":       \"Officer\",\n",
    "        \"Col\":        \"Officer\",\n",
    "        \"Major\":      \"Officer\",\n",
    "        \"Jonkheer\":   \"Royalty\",\n",
    "        \"Don\":        \"Royalty\",\n",
    "        \"Sir\" :       \"Royalty\",\n",
    "        \"Dr\":         \"Officer\",\n",
    "        \"Rev\":        \"Officer\",\n",
    "        \"the Countess\":\"Royalty\",\n",
    "        \"Dona\":       \"Royalty\",\n",
    "        \"Mme\":        \"Mrs\",\n",
    "        \"Mlle\":       \"Miss\",\n",
    "        \"Ms\":         \"Mrs\",\n",
    "        \"Mr\" :        \"Mr\",\n",
    "        \"Mrs\" :       \"Mrs\",\n",
    "        \"Miss\" :      \"Miss\",\n",
    "        \"Master\" :    \"Master\",\n",
    "        \"Lady\" :      \"Royalty\"\n",
    "        }\n",
    "    \n",
    "    # map the normalized titles to the current titles \n",
    "    df.Title = df.Title.map(normalized_titles)\n",
    "    df.drop(['Name'], axis=1, inplace=True)\n",
    "\n",
    "    # replace Age NaNs with median age based on title (stolen code)\n",
    "    grouped = df.groupby(['Sex','Pclass', 'Title'])  \n",
    "    df.Age = grouped.Age.apply(lambda x: x.fillna(x.median()))\n",
    "    df.drop(['Title'], axis=1, inplace=True)\n",
    "\n",
    "    #average_age = df['Age'].mean()\n",
    "    #df['Age'] = df['Age'].fillna(average_age)\n",
    "    \n",
    "    # turn categories into binary code\n",
    "    df['Sex'] = pd.factorize(df['Sex'], sort=True)[0]\n",
    "    one_hot_encoded = pd.get_dummies(df['Embarked'])\n",
    "    df = pd.concat((df, one_hot_encoded), axis=1)\n",
    "    df.rename(columns={\"C\": \"C_Embarked\"}, inplace=True)\n",
    "    one_hot_encoded_2 = pd.get_dummies(df['Pclass'])\n",
    "    df = pd.concat((df, one_hot_encoded_2), axis=1)\n",
    "    df.drop(['Embarked','Pclass'], axis=1, inplace=True)\n",
    "    \n",
    "    # add new column for total number of family members\n",
    "    df['total_family_on_board'] = df['SibSp'] + df['Parch']\n",
    "    df.drop(columns=['SibSp','Parch'], axis = 1, inplace=True)\n",
    "    \n",
    "    # create new column for survival rate based on family members and then drop family column\n",
    "    di = {3: 0.724138, 2: 0.578431, 1:0.552795, 6:0.333333, 0:0.300935, 4:0, 5:0, 7:0,10:0 }\n",
    "    df['survival_rate_family'] = df['total_family_on_board'].map(di) \n",
    "    df.drop(['total_family_on_board'], axis=1, inplace=True)\n",
    "\n",
    "    # fill Cabin NaN with U for unknown\n",
    "    #df.Cabin = df.Cabin.fillna('U')\n",
    "    \n",
    "    # map first letter of cabin to itself\n",
    "    #df.Cabin = df.Cabin.map(lambda x: x[0])\n",
    "    \n",
    "    # turn cabin into binary code\n",
    "    #one_hot_encoded_cabin = pd.get_dummies(df['Cabin'])\n",
    "    #df = pd.concat((df, one_hot_encoded_cabin), axis=1)\n",
    "    #df.rename(columns={\"C\": \"C_Cabin\"}, inplace=True)\n",
    "    #df.drop(['Cabin'], axis=1, inplace=True)\n",
    "    \n",
    "    return df\n",
    "\n",
    "#https://medium.com/i-like-big-data-and-i-cannot-lie/how-i-scored-in-the-top-9-of-kaggles-titanic-machine-learning-challenge-243b5f45c8e9"
   ]
  },
  {
   "cell_type": "code",
   "execution_count": 67,
   "metadata": {},
   "outputs": [],
   "source": [
    "df_train = feature_engineer(df_train)"
   ]
  },
  {
   "cell_type": "code",
   "execution_count": 68,
   "metadata": {},
   "outputs": [
    {
     "data": {
      "text/html": [
       "<div>\n",
       "<style scoped>\n",
       "    .dataframe tbody tr th:only-of-type {\n",
       "        vertical-align: middle;\n",
       "    }\n",
       "\n",
       "    .dataframe tbody tr th {\n",
       "        vertical-align: top;\n",
       "    }\n",
       "\n",
       "    .dataframe thead th {\n",
       "        text-align: right;\n",
       "    }\n",
       "</style>\n",
       "<table border=\"1\" class=\"dataframe\">\n",
       "  <thead>\n",
       "    <tr style=\"text-align: right;\">\n",
       "      <th></th>\n",
       "      <th>Survived</th>\n",
       "      <th>Sex</th>\n",
       "      <th>Age</th>\n",
       "      <th>C_Embarked</th>\n",
       "      <th>Q</th>\n",
       "      <th>S</th>\n",
       "      <th>1</th>\n",
       "      <th>2</th>\n",
       "      <th>3</th>\n",
       "      <th>survival_rate_family</th>\n",
       "    </tr>\n",
       "    <tr>\n",
       "      <th>PassengerId</th>\n",
       "      <th></th>\n",
       "      <th></th>\n",
       "      <th></th>\n",
       "      <th></th>\n",
       "      <th></th>\n",
       "      <th></th>\n",
       "      <th></th>\n",
       "      <th></th>\n",
       "      <th></th>\n",
       "      <th></th>\n",
       "    </tr>\n",
       "  </thead>\n",
       "  <tbody>\n",
       "    <tr>\n",
       "      <th>1</th>\n",
       "      <td>0</td>\n",
       "      <td>1</td>\n",
       "      <td>22.0</td>\n",
       "      <td>0</td>\n",
       "      <td>0</td>\n",
       "      <td>1</td>\n",
       "      <td>0</td>\n",
       "      <td>0</td>\n",
       "      <td>1</td>\n",
       "      <td>0.552795</td>\n",
       "    </tr>\n",
       "  </tbody>\n",
       "</table>\n",
       "</div>"
      ],
      "text/plain": [
       "             Survived  Sex   Age  C_Embarked  Q  S  1  2  3  \\\n",
       "PassengerId                                                   \n",
       "1                   0    1  22.0           0  0  1  0  0  1   \n",
       "\n",
       "             survival_rate_family  \n",
       "PassengerId                        \n",
       "1                        0.552795  "
      ]
     },
     "execution_count": 68,
     "metadata": {},
     "output_type": "execute_result"
    }
   ],
   "source": [
    "df_train.head(1)"
   ]
  },
  {
   "cell_type": "markdown",
   "metadata": {},
   "source": [
    "### Data split: test and train"
   ]
  },
  {
   "cell_type": "code",
   "execution_count": 69,
   "metadata": {},
   "outputs": [],
   "source": [
    "from sklearn.model_selection import train_test_split\n",
    "X = df_train[['Sex','Age','C_Embarked','Q','S',1,2,3,'survival_rate_family']]\n",
    "y = df_train['Survived'] "
   ]
  },
  {
   "cell_type": "code",
   "execution_count": 70,
   "metadata": {},
   "outputs": [],
   "source": [
    "X_train, X_test, y_train, y_test = train_test_split(X, y, random_state=42)"
   ]
  },
  {
   "cell_type": "code",
   "execution_count": 71,
   "metadata": {},
   "outputs": [
    {
     "data": {
      "text/plain": [
       "((666, 9), (223, 9), (666,), (223,))"
      ]
     },
     "execution_count": 71,
     "metadata": {},
     "output_type": "execute_result"
    }
   ],
   "source": [
    "X_train.shape, X_test.shape, y_train.shape, y_test.shape"
   ]
  },
  {
   "cell_type": "markdown",
   "metadata": {},
   "source": [
    "### Random Forest Model"
   ]
  },
  {
   "cell_type": "code",
   "execution_count": 72,
   "metadata": {},
   "outputs": [
    {
     "data": {
      "text/plain": [
       "RandomForestClassifier(bootstrap=True, class_weight=None, criterion='gini',\n",
       "                       max_depth=5, max_features='auto', max_leaf_nodes=None,\n",
       "                       min_impurity_decrease=0.0, min_impurity_split=None,\n",
       "                       min_samples_leaf=1, min_samples_split=2,\n",
       "                       min_weight_fraction_leaf=0.0, n_estimators=100,\n",
       "                       n_jobs=None, oob_score=False, random_state=1, verbose=0,\n",
       "                       warm_start=False)"
      ]
     },
     "execution_count": 72,
     "metadata": {},
     "output_type": "execute_result"
    }
   ],
   "source": [
    "rf = RandomForestClassifier(n_estimators=100, max_depth=5, random_state=1)\n",
    "rf.fit(X_train, y_train)"
   ]
  },
  {
   "cell_type": "markdown",
   "metadata": {},
   "source": [
    "### Model Performance"
   ]
  },
  {
   "cell_type": "code",
   "execution_count": 73,
   "metadata": {},
   "outputs": [],
   "source": [
    "train_score = rf.score(X_train,y_train)"
   ]
  },
  {
   "cell_type": "code",
   "execution_count": 74,
   "metadata": {},
   "outputs": [],
   "source": [
    "test_score = rf.score(X_test,y_test)"
   ]
  },
  {
   "cell_type": "code",
   "execution_count": 75,
   "metadata": {},
   "outputs": [
    {
     "name": "stdout",
     "output_type": "stream",
     "text": [
      "My train score is 0.8513513513513513 but my test score is 0.820627802690583\n"
     ]
    }
   ],
   "source": [
    "print(\"My train score is \"+str(train_score)+\" but my test score is \"+str(test_score))"
   ]
  },
  {
   "cell_type": "code",
   "execution_count": 54,
   "metadata": {},
   "outputs": [
    {
     "data": {
      "text/plain": [
       "[('Sex', 0.47361284465652487),\n",
       " ('Age', 0.16077372174025983),\n",
       " ('C_Embarked', 0.01929893925133035),\n",
       " ('Q', 0.007984218803727147),\n",
       " ('S', 0.02467725708533872),\n",
       " (1, 0.060587681822531665),\n",
       " (2, 0.021589321616236643),\n",
       " (3, 0.1215161148581791),\n",
       " ('survival_rate_family', 0.10995990016587164)]"
      ]
     },
     "execution_count": 54,
     "metadata": {},
     "output_type": "execute_result"
    }
   ],
   "source": [
    "list(zip(X_train.columns,rf.feature_importances_))"
   ]
  },
  {
   "cell_type": "code",
   "execution_count": 62,
   "metadata": {},
   "outputs": [
    {
     "data": {
      "text/plain": [
       "([<matplotlib.axis.YTick at 0x1a1aa1b978>,\n",
       "  <matplotlib.axis.YTick at 0x1a1aa0e160>,\n",
       "  <matplotlib.axis.YTick at 0x1a1aa184a8>,\n",
       "  <matplotlib.axis.YTick at 0x1a1aadb0b8>,\n",
       "  <matplotlib.axis.YTick at 0x1a1aad53c8>,\n",
       "  <matplotlib.axis.YTick at 0x1a1aacf400>,\n",
       "  <matplotlib.axis.YTick at 0x1a1aadb198>,\n",
       "  <matplotlib.axis.YTick at 0x1a1aadbba8>,\n",
       "  <matplotlib.axis.YTick at 0x1a1aae4198>],\n",
       " <a list of 9 Text yticklabel objects>)"
      ]
     },
     "execution_count": 62,
     "metadata": {},
     "output_type": "execute_result"
    },
    {
     "data": {
      "image/png": "[encoded data removed]",
      "text/plain": [
       "<Figure size 432x288 with 1 Axes>"
      ]
     },
     "metadata": {
      "needs_background": "light"
     },
     "output_type": "display_data"
    }
   ],
   "source": [
    "feature_importance = list(zip(X_train.columns,rf.feature_importances_))\n",
    "\n",
    "labels, ys = zip(*feature_importance)\n",
    "xs = np.arange(len(labels)) \n",
    "width = 0.1\n",
    "\n",
    "plt.bar(xs, ys, width, align='center')\n",
    "\n",
    "plt.xticks(xs, labels) \n",
    "plt.yticks(ys)"
   ]
  },
  {
   "cell_type": "code",
   "execution_count": null,
   "metadata": {},
   "outputs": [],
   "source": []
  },
  {
   "cell_type": "code",
   "execution_count": null,
   "metadata": {},
   "outputs": [],
   "source": []
  },
  {
   "cell_type": "code",
   "execution_count": 28,
   "metadata": {},
   "outputs": [
    {
     "name": "stdout",
     "output_type": "stream",
     "text": [
      "Optimization terminated successfully.\n",
      "         Current function value: 0.434008\n",
      "         Iterations 6\n",
      "Sex                    -2.571515\n",
      "Age                    -0.035866\n",
      "C_Embarked              1.046654\n",
      "Q                       0.871040\n",
      "S                       0.548335\n",
      "1                       1.926327\n",
      "2                       0.873528\n",
      "3                      -0.333827\n",
      "survival_rate_family    2.635967\n",
      "dtype: float64\n",
      "                           Logit Regression Results                           \n",
      "==============================================================================\n",
      "Dep. Variable:               Survived   No. Observations:                  666\n",
      "Model:                          Logit   Df Residuals:                      658\n",
      "Method:                           MLE   Df Model:                            7\n",
      "Date:                Fri, 11 Oct 2019   Pseudo R-squ.:                  0.3499\n",
      "Time:                        11:45:06   Log-Likelihood:                -289.05\n",
      "converged:                       True   LL-Null:                       -444.60\n",
      "Covariance Type:            nonrobust   LLR p-value:                 2.577e-63\n",
      "========================================================================================\n",
      "                           coef    std err          z      P>|z|      [0.025      0.975]\n",
      "----------------------------------------------------------------------------------------\n",
      "Sex                     -2.5715      0.225    -11.432      0.000      -3.012      -2.131\n",
      "Age                     -0.0359      0.009     -3.977      0.000      -0.054      -0.018\n",
      "C_Embarked               1.0467   5.16e+06   2.03e-07      1.000   -1.01e+07    1.01e+07\n",
      "Q                        0.8710   5.16e+06   1.69e-07      1.000   -1.01e+07    1.01e+07\n",
      "S                        0.5483   5.16e+06   1.06e-07      1.000   -1.01e+07    1.01e+07\n",
      "1                        1.9263   5.16e+06   3.73e-07      1.000   -1.01e+07    1.01e+07\n",
      "2                        0.8735   5.16e+06   1.69e-07      1.000   -1.01e+07    1.01e+07\n",
      "3                       -0.3338   5.16e+06  -6.47e-08      1.000   -1.01e+07    1.01e+07\n",
      "survival_rate_family     2.6360      0.650      4.053      0.000       1.361       3.911\n",
      "========================================================================================\n"
     ]
    }
   ],
   "source": [
    "import statsmodels.discrete.discrete_model as sm\n",
    "\n",
    "# H0 = My coef. is not significant.\n",
    "# p< 0.05 => I can reject the H0 so my coefficient is significant.\n",
    "\n",
    "\n",
    "logit = sm.Logit(y_train, X_train)\n",
    "f = logit.fit()\n",
    "print(f.params)\n",
    "print(f.summary())"
   ]
  },
  {
   "cell_type": "code",
   "execution_count": 29,
   "metadata": {},
   "outputs": [],
   "source": [
    "ypred = rf.predict(X)"
   ]
  },
  {
   "cell_type": "code",
   "execution_count": 30,
   "metadata": {},
   "outputs": [],
   "source": [
    "from sklearn.metrics import confusion_matrix\n",
    "\n",
    "c = confusion_matrix(y, ypred)"
   ]
  },
  {
   "cell_type": "code",
   "execution_count": 31,
   "metadata": {},
   "outputs": [
    {
     "data": {
      "text/html": [
       "<div>\n",
       "<style scoped>\n",
       "    .dataframe tbody tr th:only-of-type {\n",
       "        vertical-align: middle;\n",
       "    }\n",
       "\n",
       "    .dataframe tbody tr th {\n",
       "        vertical-align: top;\n",
       "    }\n",
       "\n",
       "    .dataframe thead th {\n",
       "        text-align: right;\n",
       "    }\n",
       "</style>\n",
       "<table border=\"1\" class=\"dataframe\">\n",
       "  <thead>\n",
       "    <tr style=\"text-align: right;\">\n",
       "      <th></th>\n",
       "      <th>Prediction-NO</th>\n",
       "      <th>Prediction-YES</th>\n",
       "    </tr>\n",
       "  </thead>\n",
       "  <tbody>\n",
       "    <tr>\n",
       "      <th>Actual-NO</th>\n",
       "      <td>522</td>\n",
       "      <td>27</td>\n",
       "    </tr>\n",
       "    <tr>\n",
       "      <th>Actual-YES</th>\n",
       "      <td>112</td>\n",
       "      <td>228</td>\n",
       "    </tr>\n",
       "  </tbody>\n",
       "</table>\n",
       "</div>"
      ],
      "text/plain": [
       "            Prediction-NO  Prediction-YES\n",
       "Actual-NO             522              27\n",
       "Actual-YES            112             228"
      ]
     },
     "execution_count": 31,
     "metadata": {},
     "output_type": "execute_result"
    }
   ],
   "source": [
    "cm = pd.DataFrame(c, index=['Actual-NO', 'Actual-YES'], columns=['Prediction-NO', 'Prediction-YES'])\n",
    "cm"
   ]
  },
  {
   "cell_type": "code",
   "execution_count": 32,
   "metadata": {},
   "outputs": [
    {
     "data": {
      "text/plain": [
       "Text(0.5, 1, 'confusion matrix for Titanic')"
      ]
     },
     "execution_count": 32,
     "metadata": {},
     "output_type": "execute_result"
    },
    {
     "data": {
      "image/png": "[encoded data removed]",
      "text/plain": [
       "<Figure size 432x288 with 2 Axes>"
      ]
     },
     "metadata": {
      "needs_background": "light"
     },
     "output_type": "display_data"
    }
   ],
   "source": [
    "import seaborn as sns\n",
    "\n",
    "sns.heatmap(c, cmap='Greys')\n",
    "plt.xlabel('Prediction axis')\n",
    "plt.ylabel('Actual axis')\n",
    "plt.title('confusion matrix for Titanic')"
   ]
  },
  {
   "cell_type": "markdown",
   "metadata": {},
   "source": [
    "### Hyperparameter optimization"
   ]
  },
  {
   "cell_type": "code",
   "execution_count": 35,
   "metadata": {},
   "outputs": [],
   "source": [
    "##### hyperparameter optimization\n",
    "from sklearn.model_selection import RandomizedSearchCV\n",
    "\n",
    "# Number of trees in random forest\n",
    "n_estimators = [int(x) for x in np.linspace(start = 10, stop = 200, num = 10)]\n",
    "# Number of features to consider at every split\n",
    "max_features = ['auto', 'sqrt']\n",
    "# Maximum number of levels in tree\n",
    "max_depth = [int(x) for x in np.linspace(1, 11, num = 2)]\n",
    "max_depth.append(None)\n",
    "# Minimum number of samples required to split a node\n",
    "min_samples_split = [2, 5, 10]\n",
    "# Minimum number of samples required at each leaf node\n",
    "min_samples_leaf = [1, 2, 4]\n",
    "# Method of selecting samples for training each tree\n",
    "bootstrap = [True, False]\n",
    "\n",
    "# Create the random grid\n",
    "random_grid = {'n_estimators': n_estimators,\n",
    "               'max_features': max_features,\n",
    "               'max_depth': max_depth,\n",
    "               'min_samples_split': min_samples_split,\n",
    "               'min_samples_leaf': min_samples_leaf,\n",
    "               'bootstrap': bootstrap}"
   ]
  },
  {
   "cell_type": "code",
   "execution_count": 37,
   "metadata": {},
   "outputs": [
    {
     "name": "stdout",
     "output_type": "stream",
     "text": [
      "Fitting 3 folds for each of 50 candidates, totalling 150 fits\n"
     ]
    },
    {
     "name": "stderr",
     "output_type": "stream",
     "text": [
      "[Parallel(n_jobs=-1)]: Using backend LokyBackend with 4 concurrent workers.\n",
      "[Parallel(n_jobs=-1)]: Done  33 tasks      | elapsed:    2.8s\n",
      "[Parallel(n_jobs=-1)]: Done 143 out of 150 | elapsed:    7.6s remaining:    0.4s\n",
      "[Parallel(n_jobs=-1)]: Done 150 out of 150 | elapsed:    7.9s finished\n"
     ]
    },
    {
     "data": {
      "text/plain": [
       "RandomizedSearchCV(cv=3, error_score='raise-deprecating',\n",
       "                   estimator=RandomForestClassifier(bootstrap=True,\n",
       "                                                    class_weight=None,\n",
       "                                                    criterion='gini',\n",
       "                                                    max_depth=None,\n",
       "                                                    max_features='auto',\n",
       "                                                    max_leaf_nodes=None,\n",
       "                                                    min_impurity_decrease=0.0,\n",
       "                                                    min_impurity_split=None,\n",
       "                                                    min_samples_leaf=1,\n",
       "                                                    min_samples_split=2,\n",
       "                                                    min_weight_fraction_leaf=0.0,\n",
       "                                                    n_estimators='warn',\n",
       "                                                    n_jobs=None,\n",
       "                                                    oob_sc...\n",
       "                                                    warm_start=False),\n",
       "                   iid='warn', n_iter=50, n_jobs=-1,\n",
       "                   param_distributions={'bootstrap': [True, False],\n",
       "                                        'max_depth': [1, 11, None],\n",
       "                                        'max_features': ['auto', 'sqrt'],\n",
       "                                        'min_samples_leaf': [1, 2, 4],\n",
       "                                        'min_samples_split': [2, 5, 10],\n",
       "                                        'n_estimators': [10, 31, 52, 73, 94,\n",
       "                                                         115, 136, 157, 178,\n",
       "                                                         200]},\n",
       "                   pre_dispatch='2*n_jobs', random_state=42, refit=True,\n",
       "                   return_train_score=False, scoring=None, verbose=2)"
      ]
     },
     "execution_count": 37,
     "metadata": {},
     "output_type": "execute_result"
    }
   ],
   "source": [
    "# Use the random grid to search for best hyperparameters\n",
    "# First create the base model to tune\n",
    "clf = RandomForestClassifier()\n",
    "\n",
    "# Random search of parameters, using 3 fold cross validation, \n",
    "# search across 100 different combinations, and use all available cores\n",
    "clf_opt = RandomizedSearchCV(estimator = clf, param_distributions = random_grid, n_iter = 50, cv = 3, verbose=2, random_state=42, n_jobs = -1)\n",
    "# Fit the random search model\n",
    "clf_opt.fit(X_train, y_train)"
   ]
  },
  {
   "cell_type": "code",
   "execution_count": 38,
   "metadata": {},
   "outputs": [
    {
     "data": {
      "text/plain": [
       "{'n_estimators': 200,\n",
       " 'min_samples_split': 2,\n",
       " 'min_samples_leaf': 2,\n",
       " 'max_features': 'sqrt',\n",
       " 'max_depth': 11,\n",
       " 'bootstrap': True}"
      ]
     },
     "execution_count": 38,
     "metadata": {},
     "output_type": "execute_result"
    }
   ],
   "source": [
    "clf_opt.best_params_"
   ]
  },
  {
   "cell_type": "code",
   "execution_count": 39,
   "metadata": {},
   "outputs": [
    {
     "data": {
      "text/plain": [
       "array([0.3825045 , 0.28469775, 0.02011975, 0.00882021, 0.02211969,\n",
       "       0.04557992, 0.02027057, 0.09683275, 0.11905487])"
      ]
     },
     "execution_count": 39,
     "metadata": {},
     "output_type": "execute_result"
    }
   ],
   "source": [
    "clf_opt.best_estimator_.feature_importances_\n"
   ]
  },
  {
   "cell_type": "code",
   "execution_count": 41,
   "metadata": {},
   "outputs": [
    {
     "data": {
      "text/plain": [
       "[('Sex', 0.38250449505094514),\n",
       " ('Age', 0.28469775373974987),\n",
       " ('C_Embarked', 0.020119753876956713),\n",
       " ('Q', 0.008820210337267907),\n",
       " ('S', 0.02211968567778804),\n",
       " (1, 0.04557991720648455),\n",
       " (2, 0.02027056803511242),\n",
       " (3, 0.0968327468255659),\n",
       " ('survival_rate_family', 0.11905486925012945)]"
      ]
     },
     "execution_count": 41,
     "metadata": {},
     "output_type": "execute_result"
    }
   ],
   "source": [
    "list(zip(X_train.columns,clf_opt.best_estimator_.feature_importances_))\n"
   ]
  },
  {
   "cell_type": "code",
   "execution_count": 42,
   "metadata": {},
   "outputs": [
    {
     "data": {
      "text/plain": [
       "0.820627802690583"
      ]
     },
     "execution_count": 42,
     "metadata": {},
     "output_type": "execute_result"
    }
   ],
   "source": [
    "rf.score(X_test,y_test)"
   ]
  },
  {
   "cell_type": "markdown",
   "metadata": {},
   "source": [
    "### Kaggle submission"
   ]
  },
  {
   "cell_type": "code",
   "execution_count": 76,
   "metadata": {},
   "outputs": [],
   "source": [
    "kaggle_test = pd.read_csv('test.csv')"
   ]
  },
  {
   "cell_type": "code",
   "execution_count": 77,
   "metadata": {},
   "outputs": [],
   "source": [
    "df_kaggle_test = feature_engineer(kaggle_test.set_index('PassengerId'))"
   ]
  },
  {
   "cell_type": "code",
   "execution_count": 78,
   "metadata": {},
   "outputs": [
    {
     "data": {
      "text/html": [
       "<div>\n",
       "<style scoped>\n",
       "    .dataframe tbody tr th:only-of-type {\n",
       "        vertical-align: middle;\n",
       "    }\n",
       "\n",
       "    .dataframe tbody tr th {\n",
       "        vertical-align: top;\n",
       "    }\n",
       "\n",
       "    .dataframe thead th {\n",
       "        text-align: right;\n",
       "    }\n",
       "</style>\n",
       "<table border=\"1\" class=\"dataframe\">\n",
       "  <thead>\n",
       "    <tr style=\"text-align: right;\">\n",
       "      <th></th>\n",
       "      <th>Sex</th>\n",
       "      <th>Age</th>\n",
       "      <th>C_Embarked</th>\n",
       "      <th>Q</th>\n",
       "      <th>S</th>\n",
       "      <th>1</th>\n",
       "      <th>2</th>\n",
       "      <th>3</th>\n",
       "      <th>survival_rate_family</th>\n",
       "    </tr>\n",
       "    <tr>\n",
       "      <th>PassengerId</th>\n",
       "      <th></th>\n",
       "      <th></th>\n",
       "      <th></th>\n",
       "      <th></th>\n",
       "      <th></th>\n",
       "      <th></th>\n",
       "      <th></th>\n",
       "      <th></th>\n",
       "      <th></th>\n",
       "    </tr>\n",
       "  </thead>\n",
       "  <tbody>\n",
       "    <tr>\n",
       "      <th>892</th>\n",
       "      <td>1</td>\n",
       "      <td>34.5</td>\n",
       "      <td>0</td>\n",
       "      <td>1</td>\n",
       "      <td>0</td>\n",
       "      <td>0</td>\n",
       "      <td>0</td>\n",
       "      <td>1</td>\n",
       "      <td>0.300935</td>\n",
       "    </tr>\n",
       "    <tr>\n",
       "      <th>893</th>\n",
       "      <td>0</td>\n",
       "      <td>47.0</td>\n",
       "      <td>0</td>\n",
       "      <td>0</td>\n",
       "      <td>1</td>\n",
       "      <td>0</td>\n",
       "      <td>0</td>\n",
       "      <td>1</td>\n",
       "      <td>0.552795</td>\n",
       "    </tr>\n",
       "    <tr>\n",
       "      <th>894</th>\n",
       "      <td>1</td>\n",
       "      <td>62.0</td>\n",
       "      <td>0</td>\n",
       "      <td>1</td>\n",
       "      <td>0</td>\n",
       "      <td>0</td>\n",
       "      <td>1</td>\n",
       "      <td>0</td>\n",
       "      <td>0.300935</td>\n",
       "    </tr>\n",
       "    <tr>\n",
       "      <th>895</th>\n",
       "      <td>1</td>\n",
       "      <td>27.0</td>\n",
       "      <td>0</td>\n",
       "      <td>0</td>\n",
       "      <td>1</td>\n",
       "      <td>0</td>\n",
       "      <td>0</td>\n",
       "      <td>1</td>\n",
       "      <td>0.300935</td>\n",
       "    </tr>\n",
       "    <tr>\n",
       "      <th>896</th>\n",
       "      <td>0</td>\n",
       "      <td>22.0</td>\n",
       "      <td>0</td>\n",
       "      <td>0</td>\n",
       "      <td>1</td>\n",
       "      <td>0</td>\n",
       "      <td>0</td>\n",
       "      <td>1</td>\n",
       "      <td>0.578431</td>\n",
       "    </tr>\n",
       "  </tbody>\n",
       "</table>\n",
       "</div>"
      ],
      "text/plain": [
       "             Sex   Age  C_Embarked  Q  S  1  2  3  survival_rate_family\n",
       "PassengerId                                                            \n",
       "892            1  34.5           0  1  0  0  0  1              0.300935\n",
       "893            0  47.0           0  0  1  0  0  1              0.552795\n",
       "894            1  62.0           0  1  0  0  1  0              0.300935\n",
       "895            1  27.0           0  0  1  0  0  1              0.300935\n",
       "896            0  22.0           0  0  1  0  0  1              0.578431"
      ]
     },
     "execution_count": 78,
     "metadata": {},
     "output_type": "execute_result"
    }
   ],
   "source": [
    "df_kaggle_test.head()"
   ]
  },
  {
   "cell_type": "code",
   "execution_count": 83,
   "metadata": {},
   "outputs": [],
   "source": [
    "predictions = rf.predict(df_kaggle_test)\n",
    "\n",
    "output = pd.DataFrame()\n",
    "output['PassengerId'] = df_kaggle_test.index\n",
    "output['Survived'] = predictions\n",
    "output.to_csv('random_forest_02.csv', index=False)"
   ]
  },
  {
   "cell_type": "code",
   "execution_count": 84,
   "metadata": {},
   "outputs": [],
   "source": [
    "submission = pd.read_csv('random_forest_02.csv', index_col='PassengerId')"
   ]
  },
  {
   "cell_type": "code",
   "execution_count": null,
   "metadata": {},
   "outputs": [],
   "source": []
  }
 ],
 "metadata": {
  "kernelspec": {
   "display_name": "Python 3",
   "language": "python",
   "name": "python3"
  },
  "language_info": {
   "codemirror_mode": {
    "name": "ipython",
    "version": 3
   },
   "file_extension": ".py",
   "mimetype": "text/x-python",
   "name": "python",
   "nbconvert_exporter": "python",
   "pygments_lexer": "ipython3",
   "version": "3.7.3"
  }
 },
 "nbformat": 4,
 "nbformat_minor": 2
}
